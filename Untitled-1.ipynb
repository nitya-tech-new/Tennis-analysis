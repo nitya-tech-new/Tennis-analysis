{
 "cells": [
  {
   "cell_type": "code",
   "execution_count": 12,
   "metadata": {},
   "outputs": [],
   "source": [
    "import requests\n",
    "\n",
    "url = 'https://api.sportradar.com/tennis/trial/v3/en/competitions.json'\n",
    "params = {\n",
    "    'api_key': 'l2UBT5I49T46sFkLlFN8lWod0FhoVN54kSuX2vM3'\n",
    "}\n",
    "headers = {\n",
    "    'Accept': 'application/json'\n",
    "}\n",
    "\n",
    "response = requests.get(url, headers=headers, params=params)\n",
    "\n",
    "# To print the JSON response\n",
    "if response.status_code == 200:\n",
    "    data = response.json()\n",
    "    complex_data=data.get(\"complexes\",[])\n",
    "else:\n",
    "    print(\"Failed to retrieve data:\", response.text)\n"
   ]
  },
  {
   "cell_type": "code",
   "execution_count": 38,
   "metadata": {},
   "outputs": [],
   "source": [
    "competitions = data.get('competitions', [])\n",
    "competetions_data={}\n",
    "# Loop through and print details\n",
    "for comp in competitions:\n",
    "    comp_id = comp.get('id')\n",
    "    name = comp.get('name')\n",
    "    comp_type = comp.get('type')\n",
    "    gender = comp.get('gender')\n",
    "    competetions_data.append([comp_id, name, comp_type, gender, comp_id])\n",
    "\n",
    "def extract_ids(obj):\n",
    "    ids = []\n",
    "    for comp1 in obj:\n",
    "        comp_id = comp1.get('id')\n",
    "        name = comp1.get('name')\n",
    "        ids.append([comp_id, name])\n",
    "\n",
    "    return ids\n",
    "\n",
    "# Extract all 'id' values\n",
    "id_list = extract_ids(competitions)\n",
    "\n"
   ]
  },
  {
   "cell_type": "code",
   "execution_count": null,
   "metadata": {},
   "outputs": [],
   "source": [
    "for i in range (1,1000):\n",
    "    cursor.execute( \"INSERT INTO categories VALUES (%s, %s)\", id_list[i])\n",
    "    conn.commit()"
   ]
  },
  {
   "cell_type": "code",
   "execution_count": null,
   "metadata": {},
   "outputs": [],
   "source": [
    "for i in range (1, 1000):\n",
    "    cursor.execute( \"INSERT INTO Competitions(competition_id, competition_name, type_c,gender,category_id) VALUES ( %s,%s, %s,%s,%s)\", competetions_data[i])\n",
    "    conn.commit()"
   ]
  },
  {
   "cell_type": "code",
   "execution_count": 155,
   "metadata": {},
   "outputs": [],
   "source": [
    "import requests\n",
    "url = \"https://api.sportradar.com/tennis/trial/v3/en/complexes.json\"\n",
    "headers = {\n",
    "    \"accept\": \"application/json\",\n",
    "    \"x-api-key\": \"l2UBT5I49T46sFkLlFN8lWod0FhoVN54kSuX2vM3\"\n",
    "}\n",
    "\n",
    "response = requests.get(url, headers=headers)\n",
    "\n",
    "if response.status_code == 200:\n",
    "    data_competitions= response.json()\n",
    "else:\n",
    "    print(f\"Request failed with status code {response.status_code}\")\n",
    "    print(response.text)\n"
   ]
  },
  {
   "cell_type": "code",
   "execution_count": 125,
   "metadata": {},
   "outputs": [],
   "source": [
    "complexes = data_competitions.get('complexes', [])\n",
    "complexes_ids=[]\n",
    "# Loop through and print details\n",
    "for comp in complexes:\n",
    "    complex_id = comp.get('id')\n",
    "    name = comp.get('name')\n",
    "    venues = comp.get('venues', [])\n",
    "    for venue in venues:\n",
    "        venue_id = venue.get('id')\n",
    "        venue_name = venue.get('name')\n",
    "        city_name = venue.get('city_name')\n",
    "        country_name = venue.get('country_name')\n",
    "        country_code = venue.get('country_code')\n",
    "        timezone = venue.get('timezone')\n",
    "\n",
    "    complexes_ids.append([\n",
    "            venue_id, name, city_name,\n",
    "            country_name, country_code, timezone, complex_id\n",
    "        ])\n",
    "\n",
    "\n",
    "complex_id = []\n",
    "for comp1 in complexes:\n",
    "    comp_id = comp1.get('id')\n",
    "    name = comp1.get('name')\n",
    "    complex_id.append([comp_id, name])\n"
   ]
  },
  {
   "cell_type": "code",
   "execution_count": null,
   "metadata": {},
   "outputs": [],
   "source": [
    "\n",
    "for i in range (0, len(complex_id):\n",
    "    if \n",
    "    cursor.execute( \"INSERT INTO complexes VALUES (%s, %s)\", complex_id[i])\n",
    "    conn.commit()"
   ]
  },
  {
   "cell_type": "code",
   "execution_count": 11,
   "metadata": {
    "scrolled": true
   },
   "outputs": [
    {
     "ename": "NameError",
     "evalue": "name 'complexes_ids' is not defined",
     "output_type": "error",
     "traceback": [
      "\u001b[31m---------------------------------------------------------------------------\u001b[39m",
      "\u001b[31mNameError\u001b[39m                                 Traceback (most recent call last)",
      "\u001b[36mCell\u001b[39m\u001b[36m \u001b[39m\u001b[32mIn[11]\u001b[39m\u001b[32m, line 2\u001b[39m\n\u001b[32m      1\u001b[39m \u001b[38;5;28;01mfrom\u001b[39;00m\u001b[38;5;250m \u001b[39m\u001b[34;01mpymysql\u001b[39;00m\u001b[34;01m.\u001b[39;00m\u001b[34;01merr\u001b[39;00m\u001b[38;5;250m \u001b[39m\u001b[38;5;28;01mimport\u001b[39;00m IntegrityError\n\u001b[32m----> \u001b[39m\u001b[32m2\u001b[39m \u001b[38;5;28;01mfor\u001b[39;00m i \u001b[38;5;129;01min\u001b[39;00m \u001b[38;5;28mrange\u001b[39m (\u001b[32m1\u001b[39m, \u001b[38;5;28mlen\u001b[39m(\u001b[43mcomplexes_ids\u001b[49m)):\n\u001b[32m      3\u001b[39m     \u001b[38;5;28;01mtry\u001b[39;00m:\n\u001b[32m      4\u001b[39m         cursor.execute( \u001b[33m\"\u001b[39m\u001b[33mINSERT INTO venues(venue_id, venue_name, city_name , country_name, country_code, timezone,complex_id) VALUES ( \u001b[39m\u001b[38;5;132;01m%s\u001b[39;00m\u001b[33m, \u001b[39m\u001b[38;5;132;01m%s\u001b[39;00m\u001b[33m, \u001b[39m\u001b[38;5;132;01m%s\u001b[39;00m\u001b[33m, \u001b[39m\u001b[38;5;132;01m%s\u001b[39;00m\u001b[33m, \u001b[39m\u001b[38;5;132;01m%s\u001b[39;00m\u001b[33m, \u001b[39m\u001b[38;5;132;01m%s\u001b[39;00m\u001b[33m, \u001b[39m\u001b[38;5;132;01m%s\u001b[39;00m\u001b[33m)\u001b[39m\u001b[33m\"\u001b[39m, complexes_ids[i])\n",
      "\u001b[31mNameError\u001b[39m: name 'complexes_ids' is not defined"
     ]
    }
   ],
   "source": [
    "from pymysql.err import IntegrityError\n",
    "for i in range (1, len(complexes_ids)):\n",
    "    try:\n",
    "        cursor.execute( \"INSERT INTO venues(venue_id, venue_name, city_name , country_name, country_code, timezone,complex_id) VALUES ( %s, %s, %s, %s, %s, %s, %s)\", complexes_ids[i])\n",
    "        conn.commit()\n",
    "    except IntegrityError as e:\n",
    "        continue\n",
    "   "
   ]
  },
  {
   "cell_type": "code",
   "execution_count": 9,
   "metadata": {},
   "outputs": [],
   "source": [
    "import requests\n",
    "\n",
    "# API endpoint\n",
    "url = \"https://api.sportradar.com/tennis/trial/v3/en/double_competitors_rankings.json\"\n",
    "\n",
    "# Headers\n",
    "headers = {\n",
    "    \"accept\": \"application/json\",\n",
    "    \"x-api-key\": \"l2UBT5I49T46sFkLlFN8lWod0FhoVN54kSuX2vM3\"\n",
    "}\n",
    "\n",
    "# Make the GET request\n",
    "response = requests.get(url, headers=headers)\n",
    "\n",
    "# Parse JSON response\n",
    "if response.status_code == 200:\n",
    "    rank_data = response.json()\n",
    "    \n",
    "else:\n",
    "    print(f\"Failed with status code {response.status_code}\")\n",
    "    print(response.text)\n",
    "\n",
    "    "
   ]
  },
  {
   "cell_type": "code",
   "execution_count": 22,
   "metadata": {},
   "outputs": [],
   "source": [
    "ranks = []\n",
    "competitors_info = []\n",
    "\n",
    "for group in rank_data.get('rankings', []):\n",
    "    for comp_rank in group.get('competitor_rankings', []):\n",
    "        competitor = comp_rank.get('competitor', {})\n",
    "\n",
    "        # Ranking info\n",
    "        compe_id = competitor.get('id')\n",
    "        points = comp_rank.get('points')\n",
    "        move = comp_rank.get('movement')\n",
    "        rank = comp_rank.get('rank')\n",
    "        played = comp_rank.get('competitions_played')\n",
    "        ranks.append([rank, move, points, played, compe_id])\n",
    "\n",
    "        # Competitor info\n",
    "        name = competitor.get('name')\n",
    "        country = competitor.get('country')\n",
    "        code = competitor.get('country_code')\n",
    "        abbr = competitor.get('abbreviation')\n",
    "        competitors_info.append([compe_id, name, country, code, abbr])\n"
   ]
  },
  {
   "cell_type": "code",
   "execution_count": 19,
   "metadata": {},
   "outputs": [],
   "source": [
    "from pymysql.err import IntegrityError\n",
    "for i in range (len(competitors_info)):\n",
    "    try:\n",
    "        cursor.execute(\"Insert into competitors values (%s, %s, %s, %s, %s)\", competitors_info[i])\n",
    "        conn.commit()\n",
    "    except IntegrityError as e:\n",
    "        continue\n",
    "        \n"
   ]
  },
  {
   "cell_type": "code",
   "execution_count": 24,
   "metadata": {},
   "outputs": [],
   "source": [
    "from pymysql.err import IntegrityError\n",
    "for i in range (len(ranks)):\n",
    "    try:\n",
    "        cursor.execute(\"Insert into ranks (ranks, movement, points, competitions_played, competitor_id) values (%s, %s, %s, %s, %s)\", ranks[i])\n",
    "        conn.commit()\n",
    "\n",
    "    except IntegrityError as e:\n",
    "        continue\n",
    "        "
   ]
  },
  {
   "cell_type": "code",
   "execution_count": null,
   "metadata": {},
   "outputs": [],
   "source": []
  }
 ],
 "metadata": {
  "kernelspec": {
   "display_name": "Python 3 (ipykernel)",
   "language": "python",
   "name": "python3"
  },
  "language_info": {
   "codemirror_mode": {
    "name": "ipython",
    "version": 3
   },
   "file_extension": ".py",
   "mimetype": "text/x-python",
   "name": "python",
   "nbconvert_exporter": "python",
   "pygments_lexer": "ipython3",
   "version": "3.12.3"
  }
 },
 "nbformat": 4,
 "nbformat_minor": 4
}
